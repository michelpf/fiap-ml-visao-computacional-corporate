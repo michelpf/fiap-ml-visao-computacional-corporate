{
 "cells": [
  {
   "cell_type": "markdown",
   "metadata": {},
   "source": [
    "# Introduçao a Visão Computacional"
   ]
  },
  {
   "cell_type": "markdown",
   "metadata": {},
   "source": [
    "> Atenção: este notebook foi desenhado para funcionar no **Google Collab**. Se pretende executar localmente prefira a versão local deste notebook, sem o sufixo ```-collab```."
   ]
  },
  {
   "cell_type": "markdown",
   "metadata": {},
   "source": [
    "## 1. Requerimentos\n",
    "\n",
    "Todas as bibliotecas já estão instaladas no Google Colab.\n",
    "\n",
    "* OpenCV >= 3.4.3\n",
    "* Matplotlib >= 3.1.3\n",
    "* Seaborn >= 0.0.10\n",
    "* Numpy >= 1.18.1\n",
    "\n",
    "### 1.2 Arquivos\n",
    "\n",
    "Baixe o repositório do GitHub utilizando o comando abaixo. Em caso de atualização, utilize o comando para apagar o diretório antes."
   ]
  },
  {
   "cell_type": "code",
   "execution_count": null,
   "metadata": {},
   "outputs": [],
   "source": [
    "!rm -rf fiap-ml-visao-computacional/"
   ]
  },
  {
   "cell_type": "code",
   "execution_count": null,
   "metadata": {},
   "outputs": [],
   "source": [
    "!git clone https://github.com/michelpf/fiap-ml-visao-computacional"
   ]
  },
  {
   "cell_type": "markdown",
   "metadata": {},
   "source": [
    "Vamos agora posicionar o diretório do repositório para a aula respectiva. Nesse caso envie o comando de mudança de diretório."
   ]
  },
  {
   "cell_type": "code",
   "execution_count": null,
   "metadata": {},
   "outputs": [],
   "source": [
    "%cd fiap-ml-visao-computacional/aula-1-introducao-visao-computacional/"
   ]
  },
  {
   "cell_type": "code",
   "execution_count": null,
   "metadata": {},
   "outputs": [],
   "source": [
    "import numpy as np\n",
    "import matplotlib.pyplot as plt\n",
    "import seaborn as sns\n",
    "import cv2\n",
    "\n",
    "# Exibição na mesma tela do Jupyter\n",
    "%matplotlib inline\n",
    "\n",
    "plt.style.use(\"seaborn\")\n",
    "sns.set_style(\"whitegrid\", {\"axes.grid\" : False})"
   ]
  },
  {
   "cell_type": "markdown",
   "metadata": {},
   "source": [
    "## 2. Trabalhando com imagens"
   ]
  },
  {
   "cell_type": "markdown",
   "metadata": {},
   "source": [
    "Carregando uma imagem previamente existente"
   ]
  },
  {
   "cell_type": "code",
   "execution_count": null,
   "metadata": {},
   "outputs": [],
   "source": [
    "imagem = cv2.imread(\"imagens/russian.jpg\", cv2.IMREAD_COLOR)\n",
    "\n",
    "print(\"comprimento (w): %d pixels\" % (imagem.shape[1]))\n",
    "print(\"altura (h): %d pixels\" % (imagem.shape[0]))\n",
    "print(\"canais: %d\" % (imagem.shape[2]))"
   ]
  },
  {
   "cell_type": "markdown",
   "metadata": {},
   "source": [
    "Exibindo uma imagem utilizando o _Matplotlib_. Neste tipo de exibição é obrigatório a conversão do espaço de cores de BGR para RGB."
   ]
  },
  {
   "cell_type": "code",
   "execution_count": null,
   "metadata": {},
   "outputs": [],
   "source": [
    "imagem = cv2.cvtColor(imagem, cv2.COLOR_BGR2RGB)"
   ]
  },
  {
   "cell_type": "code",
   "execution_count": null,
   "metadata": {},
   "outputs": [],
   "source": [
    "plt.figure(figsize=(20,10))\n",
    "plt.imshow(imagem)"
   ]
  },
  {
   "cell_type": "markdown",
   "metadata": {},
   "source": [
    "Escrevendo o objeto image em outro arquivo"
   ]
  },
  {
   "cell_type": "code",
   "execution_count": null,
   "metadata": {},
   "outputs": [],
   "source": [
    "cv2.imwrite(\"imagens/russian_2.jpg\", imagem)"
   ]
  },
  {
   "cell_type": "markdown",
   "metadata": {},
   "source": [
    "## 2. Espaço de cores\n",
    "\n",
    "Espaços de cores são a forma como as imagens são organizados nas matrizes. Existem diversos espaços para diferentes finalidades, como escala de cinza que reduz a dimensionalidade sem perder características de gradientes e formas, RGB mantém cores separadas por canais independentes da mesma forma que o HSV, porém este último, organiza as cores de uma forma que combina a cor, sua intensidade e luminosidade.\n",
    "\n",
    "### 2.1 RGB"
   ]
  },
  {
   "cell_type": "markdown",
   "metadata": {},
   "source": [
    "A representação da imagem aberta é (1536, 1028, 3), sendo o último parâmetro o número de canais, um para cada cor do RGB."
   ]
  },
  {
   "cell_type": "code",
   "execution_count": null,
   "metadata": {},
   "outputs": [],
   "source": [
    "(r, g, b) = imagem[0, 0]\n",
    "print(\"Pixel at (0, 0) - Red: %d, Green: %d, Blue: %d\" % (r, g, b))"
   ]
  },
  {
   "cell_type": "code",
   "execution_count": null,
   "metadata": {},
   "outputs": [],
   "source": [
    "imagem[0:50, 0:50] = (0, 0, 255)\n",
    "(r, g, b) = imagem[0, 0]\n",
    "print(\"Pixel at (0, 0) - Red: %d, Green: %d, Blue: %d\" % (r, g, b))"
   ]
  },
  {
   "cell_type": "code",
   "execution_count": null,
   "metadata": {},
   "outputs": [],
   "source": [
    "plt.figure(figsize=(20,10))\n",
    "plt.imshow(imagem)"
   ]
  },
  {
   "cell_type": "markdown",
   "metadata": {},
   "source": [
    "### 2.2 Escala de cinza\n",
    "\n",
    "Conversão de uma imagem em escala de cinza"
   ]
  },
  {
   "cell_type": "code",
   "execution_count": null,
   "metadata": {},
   "outputs": [],
   "source": [
    "imagem_gray = cv2.cvtColor(imagem, cv2.COLOR_BGR2GRAY)"
   ]
  },
  {
   "cell_type": "code",
   "execution_count": null,
   "metadata": {},
   "outputs": [],
   "source": [
    "plt.figure(figsize=(20,10))\n",
    "plt.imshow(imagem_gray, cmap = \"gray\")"
   ]
  },
  {
   "cell_type": "code",
   "execution_count": null,
   "metadata": {},
   "outputs": [],
   "source": [
    "g = imagem_gray[0, 0]\n",
    "print(\"Pixel at (0, 0) - Grayscale: %d\" % (g))"
   ]
  },
  {
   "cell_type": "code",
   "execution_count": null,
   "metadata": {},
   "outputs": [],
   "source": [
    "imagem_gray.shape"
   ]
  },
  {
   "cell_type": "code",
   "execution_count": null,
   "metadata": {},
   "outputs": [],
   "source": [
    "imagem.shape"
   ]
  },
  {
   "cell_type": "code",
   "execution_count": null,
   "metadata": {},
   "outputs": [],
   "source": [
    "b, g, r = cv2.split(imagem)"
   ]
  },
  {
   "cell_type": "code",
   "execution_count": null,
   "metadata": {},
   "outputs": [],
   "source": [
    "plt.figure(figsize=(20,10))\n",
    "plt.imshow(imagem)\n",
    "plt.title(\"Russia RGB\")"
   ]
  },
  {
   "cell_type": "code",
   "execution_count": null,
   "metadata": {},
   "outputs": [],
   "source": [
    "plt.figure(figsize=(20,20))\n",
    "\n",
    "#Composição Vermelha\n",
    "plt.subplot(1,3,1)\n",
    "plt.imshow(r, cmap = \"gray\")\n",
    "plt.title(\"Russia Red\")\n",
    "\n",
    "#Composição Verde\n",
    "plt.subplot(1,3,2)\n",
    "plt.imshow(g, cmap = \"gray\")\n",
    "plt.title(\"Russia Green\")\n",
    "\n",
    "#Composição Azul\n",
    "plt.subplot(1,3,3)\n",
    "plt.imshow(b, cmap = \"gray\")\n",
    "plt.title(\"Russia Blue\")"
   ]
  },
  {
   "cell_type": "markdown",
   "metadata": {},
   "source": [
    "Utilizando a função merge para combinar as componentes de cores e trazer sua visualização original.\n",
    "\n",
    "*Referência documentação do [OpenCV](https://docs.opencv.org/3.1.0/d3/df2/tutorial_py_basic_ops.html).*"
   ]
  },
  {
   "cell_type": "code",
   "execution_count": null,
   "metadata": {},
   "outputs": [],
   "source": [
    "r, g, b = cv2.split(imagem)\n",
    "imagem_vazia = np.zeros(imagem.shape[:2], dtype=np.uint8)"
   ]
  },
  {
   "cell_type": "code",
   "execution_count": null,
   "metadata": {},
   "outputs": [],
   "source": [
    "plt.figure(figsize=(20,20))\n",
    "\n",
    "plt.subplot(1,3,1)\n",
    "plt.imshow(cv2.merge([r, imagem_vazia, imagem_vazia]))\n",
    "plt.title(\"Russia Red\")\n",
    "\n",
    "plt.subplot(1,3,2)\n",
    "plt.imshow(cv2.merge([imagem_vazia, g, imagem_vazia]))\n",
    "plt.title(\"Russia Green\")\n",
    "\n",
    "plt.subplot(1,3,3)\n",
    "plt.imshow(cv2.merge([imagem_vazia, imagem_vazia, b]))\n",
    "plt.title(\"Russia Blue\")"
   ]
  },
  {
   "cell_type": "code",
   "execution_count": null,
   "metadata": {},
   "outputs": [],
   "source": [
    "imagem_merged = cv2.merge([r, g, b])\n",
    "\n",
    "plt.figure(figsize=(20,10))\n",
    "plt.title(\"Russia RGB\")\n",
    "plt.imshow(imagem_merged)"
   ]
  },
  {
   "cell_type": "code",
   "execution_count": null,
   "metadata": {},
   "outputs": [],
   "source": [
    "r, g, b = cv2.split(imagem)"
   ]
  },
  {
   "cell_type": "markdown",
   "metadata": {},
   "source": [
    "Uma vez que é possível separar cada componente de imagem, também podemos interagir com estes valores para aumentar a intensidade de cada componente.\n",
    "Note que isso pode resultar em saturações, que é quando um determinado pixel atinge seu valor máximo."
   ]
  },
  {
   "cell_type": "code",
   "execution_count": null,
   "metadata": {},
   "outputs": [],
   "source": [
    "plt.figure(figsize=(20,20))\n",
    "\n",
    "#Intensificando o componente verde da imagem\n",
    "plt.subplot(1,3,1)\n",
    "plt.imshow(cv2.merge([r, g+100, b]))\n",
    "plt.title(\"Intensificado Verde\")\n",
    "\n",
    "#Intensificando o componente azul da imagem\n",
    "plt.subplot(1,3,2)\n",
    "plt.imshow(cv2.merge([b+100, g, r]))\n",
    "plt.title(\"Intensificado Azul\")\n",
    "\n",
    "#Intensificando o componente vermelho da imagem\n",
    "plt.subplot(1,3,3)\n",
    "plt.imshow(cv2.merge([b, g, r+100]))\n",
    "plt.title(\"Intensificado Vermelho\")"
   ]
  },
  {
   "cell_type": "markdown",
   "metadata": {},
   "source": [
    "### 2.3 HSV\n",
    "\n",
    "Manipulando imagem no espaço HSV"
   ]
  },
  {
   "cell_type": "code",
   "execution_count": null,
   "metadata": {},
   "outputs": [],
   "source": [
    "imagem_hsv = cv2.cvtColor(imagem, cv2.COLOR_BGR2HSV)"
   ]
  },
  {
   "cell_type": "code",
   "execution_count": null,
   "metadata": {},
   "outputs": [],
   "source": [
    "plt.figure(figsize=(20,10))\n",
    "plt.title(\"Rússia HSV\")\n",
    "plt.imshow(imagem_hsv)"
   ]
  },
  {
   "cell_type": "code",
   "execution_count": null,
   "metadata": {},
   "outputs": [],
   "source": [
    "plt.figure(figsize=(20,10))\n",
    "plt.imshow(imagem_hsv[:,:,0], cmap=\"gray\")\n",
    "plt.title(\"Russia Hue (Matiz)\")"
   ]
  },
  {
   "cell_type": "code",
   "execution_count": null,
   "metadata": {},
   "outputs": [],
   "source": [
    "plt.figure(figsize=(20,10))\n",
    "plt.imshow(imagem_hsv[:,:,1], cmap=\"gray\")\n",
    "plt.title(\"Russia Saturation (Saturação)\")"
   ]
  },
  {
   "cell_type": "code",
   "execution_count": null,
   "metadata": {},
   "outputs": [],
   "source": [
    "plt.figure(figsize=(20,10))\n",
    "plt.imshow(imagem_hsv[:,:,2], cmap=\"gray\")\n",
    "plt.title(\"Russia Value (Brilho)\")"
   ]
  },
  {
   "cell_type": "markdown",
   "metadata": {},
   "source": [
    "Manipulando imagem no espaço RGB"
   ]
  },
  {
   "cell_type": "markdown",
   "metadata": {},
   "source": [
    "*A função split separa de uma imagem RGB (ou BGR) suas componetnes R, G e B.*"
   ]
  },
  {
   "cell_type": "markdown",
   "metadata": {},
   "source": [
    "## 3. Histogramas"
   ]
  },
  {
   "cell_type": "code",
   "execution_count": null,
   "metadata": {},
   "outputs": [],
   "source": [
    "imagem_blue_man = cv2.imread(\"imagens/blue-man-group.jpg\", cv2.IMREAD_COLOR)\n",
    "imagem_blue_man = cv2.cvtColor(imagem_blue_man, cv2.COLOR_BGR2RGB)"
   ]
  },
  {
   "cell_type": "code",
   "execution_count": null,
   "metadata": {},
   "outputs": [],
   "source": [
    "plt.figure(figsize=(20,10))\n",
    "plt.imshow(imagem_blue_man)\n",
    "plt.title(\"Blue Man Group\")"
   ]
  },
  {
   "cell_type": "markdown",
   "metadata": {},
   "source": [
    "Definindo um dicionário dos componentes de cores para ser utilizado nas funções de histograma."
   ]
  },
  {
   "cell_type": "code",
   "execution_count": null,
   "metadata": {},
   "outputs": [],
   "source": [
    "cores = {\"r\": 0, \"g\": 1, \"b\": 2}"
   ]
  },
  {
   "cell_type": "code",
   "execution_count": null,
   "metadata": {},
   "outputs": [],
   "source": [
    "def histograma_bgr(imagem):\n",
    "    for cor in cores:\n",
    "        histograma = cv2.calcHist([imagem],[cores[cor]],None,[256],[0,256])\n",
    "        plt.plot(histograma,color = cor)\n",
    "        plt.xlim([0,256])\n",
    "    plt.show()\n",
    "\n",
    "def histograma_hue(imagem_hsv):\n",
    "    imagem_hsv = cv2.cvtColor(imagem_hsv, cv2.COLOR_BGR2HSV)\n",
    "    histograma_hue = cv2.calcHist([imagem_hsv], [0], None, [180], [0, 180])\n",
    "    plt.plot(histograma_hue)\n",
    "    plt.show() \n",
    "\n",
    "histograma_bgr(imagem)\n",
    "histograma_hue(imagem)"
   ]
  },
  {
   "cell_type": "markdown",
   "metadata": {},
   "source": [
    "Reparem que em imagens mais escuras, o histograma correspondente vai indicar menor concentração nos valores maiores, ficando sempre próximo de zero."
   ]
  },
  {
   "cell_type": "code",
   "execution_count": null,
   "metadata": {},
   "outputs": [],
   "source": [
    "imagem_seven = cv2.imread(\"imagens/seven.jpg\", cv2.IMREAD_COLOR)\n",
    "imagem_seven = cv2.cvtColor(imagem_seven, cv2.COLOR_BGR2RGB)\n",
    "\n",
    "plt.figure(figsize=(20,10))\n",
    "plt.imshow(imagem_seven)\n",
    "plt.title(\"Seven\")"
   ]
  },
  {
   "cell_type": "code",
   "execution_count": null,
   "metadata": {},
   "outputs": [],
   "source": [
    "histograma_bgr(imagem_seven)\n",
    "histograma_hue(imagem_seven)"
   ]
  },
  {
   "cell_type": "code",
   "execution_count": null,
   "metadata": {},
   "outputs": [],
   "source": [
    "imagem_willy_wonka = cv2.imread(\"imagens/willy-wonka.jpg\", cv2.IMREAD_COLOR)\n",
    "imagem_willy_wonka = cv2.cvtColor(imagem_willy_wonka, cv2.COLOR_BGR2RGB)\n",
    "\n",
    "plt.figure(figsize=(20,10))\n",
    "plt.imshow(imagem_willy_wonka)\n",
    "plt.title(\"Willy Wonka\")\n",
    "plt.show()"
   ]
  },
  {
   "cell_type": "code",
   "execution_count": null,
   "metadata": {},
   "outputs": [],
   "source": [
    "histograma_bgr(imagem_willy_wonka)\n",
    "histograma_hue(imagem_willy_wonka)"
   ]
  },
  {
   "cell_type": "code",
   "execution_count": null,
   "metadata": {},
   "outputs": [],
   "source": [
    "imagem_teste_cores = cv2.imread(\"imagens/tv-image-test.png\", cv2.IMREAD_COLOR)\n",
    "imagem_teste_cores = cv2.cvtColor(imagem_teste_cores, cv2.COLOR_BGR2RGB)\n",
    "\n",
    "plt.figure(figsize=(20,10))\n",
    "plt.imshow(imagem_teste_cores)\n",
    "plt.title(\"Gabarito/Teste de Cores\")\n",
    "plt.show()"
   ]
  },
  {
   "cell_type": "code",
   "execution_count": null,
   "metadata": {},
   "outputs": [],
   "source": [
    "histograma_bgr(imagem_teste_cores)\n",
    "histograma_hue(imagem_teste_cores)"
   ]
  },
  {
   "cell_type": "markdown",
   "metadata": {},
   "source": [
    "## 4. Construção de imagens "
   ]
  },
  {
   "cell_type": "markdown",
   "metadata": {},
   "source": [
    "### 4.1 Formas geométricas e textos"
   ]
  },
  {
   "cell_type": "markdown",
   "metadata": {},
   "source": [
    "Desenhando um painel em branco. Uma imagem em branco é considerada ausente de pixels, logo seu aspecto gráfico é preto."
   ]
  },
  {
   "cell_type": "code",
   "execution_count": null,
   "metadata": {},
   "outputs": [],
   "source": [
    "imagem_color = np.zeros((512, 512, 3), np.uint8)\n",
    "\n",
    "plt.imshow(imagem_color)"
   ]
  },
  {
   "cell_type": "code",
   "execution_count": null,
   "metadata": {},
   "outputs": [],
   "source": [
    "imagem_grayscale = np.zeros((512, 512), np.uint8)\n",
    "\n",
    "plt.imshow(imagem_grayscale, cmap=\"gray\")"
   ]
  },
  {
   "cell_type": "markdown",
   "metadata": {},
   "source": [
    "### Desenhando uma linha\n",
    "\n",
    "A função ```line``` recebe como parâmetros de entrada a imagem, as coordenadas (x,y) de início, fim, cor em RGB e espessura da linha."
   ]
  },
  {
   "cell_type": "code",
   "execution_count": null,
   "metadata": {},
   "outputs": [],
   "source": [
    "imagem_color = np.zeros((512, 512, 3), np.uint8)\n",
    "cv2.line(imagem_color,(0,0), (511,511), (255, 0, 0), 10)\n",
    "\n",
    "plt.imshow(imagem_color)\n",
    "plt.title(\"Linha\")"
   ]
  },
  {
   "cell_type": "markdown",
   "metadata": {},
   "source": [
    "### Desenhando um quadrado ou retângulo\n",
    "\n",
    "A funçao ```rectangle``` recebe como parâmetros de entrada a imagem, as coordenadas do vértice de início, do vértice oposto, cor em RGB e espessura da linha."
   ]
  },
  {
   "cell_type": "code",
   "execution_count": null,
   "metadata": {},
   "outputs": [],
   "source": [
    "imagem_color = np.zeros((512, 512, 3), np.uint8)\n",
    "cv2.rectangle(imagem_color,(100,100), (400,400), (255, 0, 0), 10)\n",
    "\n",
    "plt.imshow(imagem_color)\n",
    "plt.title(\"Retângulo\")"
   ]
  },
  {
   "cell_type": "markdown",
   "metadata": {},
   "source": [
    "### Desenhando um quadrado ou retângulo com cores invertidas\n",
    "\n",
    "Neste caso, a espessura é alterada para o valor ```-1```."
   ]
  },
  {
   "cell_type": "code",
   "execution_count": null,
   "metadata": {},
   "outputs": [],
   "source": [
    "image_color = np.zeros((512, 512, 3), np.uint8)\n",
    "cv2.rectangle(imagem_color,(100,100), (400,400), (255, 0, 0), -1)\n",
    "\n",
    "plt.imshow(imagem_color)\n",
    "plt.title(\"Retângulo Invertido\")"
   ]
  },
  {
   "cell_type": "markdown",
   "metadata": {},
   "source": [
    "### Desenhando círculos\n",
    "\n",
    "A função ```circle``` recebe como parâmetros de entrada a imagem, origem do círculo, raio, cor em RGB e espessura da linha."
   ]
  },
  {
   "cell_type": "code",
   "execution_count": null,
   "metadata": {},
   "outputs": [],
   "source": [
    "imagem_color = np.zeros((512, 512, 3), np.uint8)\n",
    "cv2.circle(imagem_color,(250,250), 100, (255, 0, 0), 10)\n",
    "\n",
    "plt.imshow(imagem_color)\n",
    "plt.title(\"Círculo\")"
   ]
  },
  {
   "cell_type": "code",
   "execution_count": null,
   "metadata": {},
   "outputs": [],
   "source": [
    "imagem_color = np.zeros((512, 512, 3), np.uint8)\n",
    "cv2.circle(imagem_color,(250,250), 100, (255, 0, 0), -1)\n",
    "\n",
    "plt.imshow(imagem_color)\n",
    "plt.title(\"Círculo Preenchido\")"
   ]
  },
  {
   "cell_type": "markdown",
   "metadata": {},
   "source": [
    "### Desenhando polígonos.\n",
    "\n",
    "A função ```polylines``` recebe como parâmetros de entrada a imagem, as coordenadas (x,y) de cada vértice do polígono, valor booleano par polígono aberto ou fechado, cor em RGB e espessura da linha."
   ]
  },
  {
   "cell_type": "code",
   "execution_count": null,
   "metadata": {},
   "outputs": [],
   "source": [
    "imagem_color = np.zeros((512, 512, 3), np.uint8)\n",
    "\n",
    "pts = np.array([[200,120], [300,50], [350,300], [300,400], [200,150]], np.int32)\n",
    "\n",
    "cv2.polylines(imagem_color, [pts], True, (255, 0, 0), 10)\n",
    "\n",
    "plt.imshow(imagem_color)\n",
    "plt.title(\"Polígonos\")"
   ]
  },
  {
   "cell_type": "code",
   "execution_count": null,
   "metadata": {},
   "outputs": [],
   "source": [
    "imagem_color = np.zeros((512, 512, 3), np.uint8)\n",
    "\n",
    "pts = np.array( [[200,120], [300,50], [350,300], [300,400], [200,150]], np.int32)\n",
    "\n",
    "cv2.polylines(imagem_color, [pts], False, (255, 0, 0), 10)\n",
    "\n",
    "plt.imshow(imagem_color)\n",
    "plt.title(\"Polígonos\")"
   ]
  },
  {
   "cell_type": "markdown",
   "metadata": {},
   "source": [
    "A função ```fillPolly``` recebe como parâmetros de entrada a imagem, as coordenadas (x,y) de cada vértice do polígono e cor em RGB."
   ]
  },
  {
   "cell_type": "code",
   "execution_count": null,
   "metadata": {},
   "outputs": [],
   "source": [
    "imagem_color = np.zeros((512, 512, 3), np.uint8)\n",
    "\n",
    "pts = np.array( [[200,120], [300,50], [350,300], [300,400], [200,150]], np.int32)\n",
    "\n",
    "cv2.fillPoly(imagem_color, [pts], (255, 0, 0))\n",
    "\n",
    "plt.imshow(imagem_color)\n",
    "plt.title(\"Polígonos Invertido\")"
   ]
  },
  {
   "cell_type": "markdown",
   "metadata": {},
   "source": [
    "### Texto em imagens\n",
    "\n",
    "Inserindo textos em uma imagem. As fontes disponíveis não suporta caracteres especiais (UTF-8) como acentos. Se isto for um problema deve-se olhar para outras bibliotecas que podem fazer este trabalho um pouco melhor como o PIL.\n",
    "\n",
    "A função ```putText``` recebe como parâmetro de entrada a imagem, o texto, as coordenadas (x,y), a fonte, o tamanho da fonte, a cor em RGB e a espessura da linha"
   ]
  },
  {
   "cell_type": "code",
   "execution_count": null,
   "metadata": {},
   "outputs": [],
   "source": [
    "imagem_color = np.zeros((300, 600, 3), np.uint8)\n",
    "cv2.putText(imagem_color, \"Isto e um texto :)\", (75,200), cv2.FONT_HERSHEY_SIMPLEX, 2, (255, 0, 0), 3)\n",
    "\n",
    "plt.imshow(imagem_color)\n",
    "plt.title(\"Texto\")"
   ]
  }
 ],
 "metadata": {
  "kernelspec": {
   "display_name": "Python 3",
   "language": "python",
   "name": "python3"
  },
  "language_info": {
   "codemirror_mode": {
    "name": "ipython",
    "version": 3
   },
   "file_extension": ".py",
   "mimetype": "text/x-python",
   "name": "python",
   "nbconvert_exporter": "python",
   "pygments_lexer": "ipython3",
   "version": "3.6.10"
  }
 },
 "nbformat": 4,
 "nbformat_minor": 2
}
