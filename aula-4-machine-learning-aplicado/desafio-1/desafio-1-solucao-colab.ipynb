{
 "cells": [
  {
   "cell_type": "markdown",
   "metadata": {},
   "source": [
    "# Desafio 1\n",
    "## Reconhecimento de faces\n",
    "\n",
    "Dada uma base de dados de imagens de pessoas da [Caltech](http://www.vision.caltech.edu/html-files/archive.html) na pasta \"caltech\", colete os dados de cada pessoa, das 10 disponíveis, identificado por meio do seu id (\"Subject 1\", \"Subject 2\"  e assim por diante). Use a pasta \"train\" para treinar um modelo de classificador de rostos e valide os resultados com outras amostras que estão na pasta \"val\".\n",
    "\n",
    "Após os testes, teste seu modelo com 10 imagens na pasta \"imagens\" e avalie como o classificador escolhido se comportou.\n",
    "\n",
    "Utilize como referência dos sujeitos a ordem a seguir.\n",
    "\n",
    "Sujeito 1\n",
    "<img src=\"imagens/caltech/train/1/image_0002.jpg\" width=\"40%\" height=\"40%\">\n",
    "\n",
    "Sujeito 2\n",
    "<img src=\"imagens/caltech/train/2/image_0023.jpg\" width=\"40%\" height=\"40%\">\n",
    "\n",
    "Sujeito 3\n",
    "<img src=\"imagens/caltech/train/3/image_0048.jpg\" width=\"40%\" height=\"40%\">\n",
    "\n",
    "Sujeito 4\n",
    "<img src=\"imagens/caltech/train/4/image_0070.jpg\" width=\"40%\" height=\"40%\">\n",
    "\n",
    "Sujeito 5\n",
    "<img src=\"imagens/caltech/train/5/image_0091.jpg\" width=\"40%\" height=\"40%\">\n",
    "\n",
    "Sujeito 6\n",
    "<img src=\"imagens/caltech/train/6/image_0114.jpg\" width=\"40%\" height=\"40%\">\n",
    "\n",
    "Sujeito 7\n",
    "<img src=\"imagens/caltech/train/7/image_0139.jpg\" width=\"40%\" height=\"40%\">\n",
    "\n",
    "Sujeito 8\n",
    "<img src=\"imagens/caltech/train/8/image_0197.jpg\" width=\"40%\" height=\"40%\">\n",
    "\n",
    "Sujeito 9\n",
    "<img src=\"imagens/caltech/train/9/image_0243.jpg\" width=\"40%\" height=\"40%\">\n",
    "\n",
    "Sujeito 10\n",
    "<img src=\"imagens/caltech/train/10/image_0429.jpg\" width=\"40%\" height=\"40%\">"
   ]
  },
  {
   "cell_type": "markdown",
   "metadata": {},
   "source": [
    "> Atenção: este notebook foi desenhado para funcionar no **Google Collab**. Se pretende executar localmente prefira a versão local deste notebook, sem o sufixo ```-collab```.\n",
    "\n",
    "## 1. Requerimentos\n",
    "\n",
    "### 1.1 Bibliotecas\n",
    "\n",
    "Todas as bibliotecas já estão instaladas no Google Colab.\n",
    "\n",
    "* OpenCV>=3.4.3\n",
    "* Numpy>=1.18.1\n",
    "* Matplotlib>=3.1.3\n",
    "\n",
    "### 1.2 Arquivos\n",
    "\n",
    "Baixe o repositório do GitHub utilizando o comando abaixo. Em caso de atualização, utilize o comando para apagar o diretório antes."
   ]
  },
  {
   "cell_type": "code",
   "execution_count": null,
   "metadata": {},
   "outputs": [],
   "source": [
    "!rm -rf fiap-ml-visao-computacional/"
   ]
  },
  {
   "cell_type": "code",
   "execution_count": null,
   "metadata": {},
   "outputs": [],
   "source": [
    "!git clone https://github.com/michelpf/fiap-ml-visao-computacional"
   ]
  },
  {
   "cell_type": "markdown",
   "metadata": {},
   "source": [
    "Vamos agora posicionar o diretório do repositório para a aula respectiva. Nesse caso envie o comando de mudança de diretório."
   ]
  },
  {
   "cell_type": "code",
   "execution_count": null,
   "metadata": {},
   "outputs": [],
   "source": [
    "%cd fiap-ml-visao-computacional/aula-5-machine-learning-aplicado/desafio-1/"
   ]
  },
  {
   "cell_type": "markdown",
   "metadata": {},
   "source": [
    "Importação das bibliotecas."
   ]
  },
  {
   "cell_type": "code",
   "execution_count": 1,
   "metadata": {},
   "outputs": [],
   "source": [
    "import cv2\n",
    "from matplotlib import pyplot as plt\n",
    "import numpy as np\n",
    "import glob"
   ]
  },
  {
   "cell_type": "markdown",
   "metadata": {},
   "source": [
    "## 2. Solução\n",
    "\n",
    "### 2.1 Extração de região de interesse\n",
    "\n",
    "Implementar extrator de face."
   ]
  },
  {
   "cell_type": "code",
   "execution_count": 2,
   "metadata": {},
   "outputs": [],
   "source": [
    "face_classifier = cv2.CascadeClassifier('classificadores/haarcascade_frontalface_default.xml')\n",
    "\n",
    "# Extrator de faces\n",
    "def face_extractor(img):\n",
    "    try:\n",
    "        gray = cv2.cvtColor(img,cv2.COLOR_BGR2GRAY)\n",
    "        faces = face_classifier.detectMultiScale(gray, 1.3, 5)\n",
    "\n",
    "        if faces is ():\n",
    "            return None\n",
    "\n",
    "        for (x,y,w,h) in faces:\n",
    "            cropped_face = img[y:y+h, x:x+w]\n",
    "            \n",
    "    except:\n",
    "        return None\n",
    "\n",
    "    return cropped_face"
   ]
  },
  {
   "cell_type": "markdown",
   "metadata": {},
   "source": [
    "### 2.2 Normalização\n",
    "\n",
    "Normalizar o tamanho das imagens em 200 x 200."
   ]
  },
  {
   "cell_type": "code",
   "execution_count": 32,
   "metadata": {},
   "outputs": [],
   "source": [
    "def normalizar_imagens(subject):\n",
    "    list_files = []\n",
    "    i = 1\n",
    "    no_face = 0\n",
    "    total = 0\n",
    "    for file in glob.glob(\"imagens/caltech/train/\"+str(subject)+\"/*\"):\n",
    "        total+=1\n",
    "        image = cv2.imread(file);\n",
    "        face = face_extractor(image)\n",
    "        if face is not None:\n",
    "            image_norm = cv2.resize(face, (200, 200))\n",
    "            image_norm = cv2.cvtColor(image_norm, cv2.COLOR_BGR2GRAY)\n",
    "            file_name_path = \"imagens/caltech/train/\"+str(subject)+\"/norm/\"+str(i)+\".png\"\n",
    "            cv2.imwrite(file_name_path, image_norm)\n",
    "            list_files.append(file_name_path)\n",
    "            i += 1\n",
    "        else:\n",
    "            no_face += 1\n",
    "    print(\"Faces localizadas \"+str(i) + \"/\" + str(total))\n",
    "    return list_files"
   ]
  },
  {
   "cell_type": "markdown",
   "metadata": {},
   "source": [
    "### 2.3 Treinamento\n",
    "\n",
    "Carregando base de treinamento."
   ]
  },
  {
   "cell_type": "code",
   "execution_count": 39,
   "metadata": {},
   "outputs": [],
   "source": [
    "def treinamento():\n",
    "    training_data, labels = [], []\n",
    "\n",
    "    for subject in list(range(1,11)):\n",
    "        print(\"Processando \"+str(subject))\n",
    "        files = normalizar_imagens(subject)\n",
    "\n",
    "        # Lendo as imagens e associando a um label\n",
    "        for i, file in enumerate(files):\n",
    "            images = cv2.imread(file, cv2.IMREAD_GRAYSCALE)\n",
    "            training_data.append(np.asarray(images, dtype=np.uint8))\n",
    "            labels.append(subject)\n",
    "\n",
    "    # Criando uma matriz da lista de labels\n",
    "    labels = np.asarray(labels, dtype=np.int32)\n",
    "    return training_data, labels"
   ]
  },
  {
   "cell_type": "code",
   "execution_count": 40,
   "metadata": {},
   "outputs": [
    {
     "name": "stdout",
     "output_type": "stream",
     "text": [
      "Processando 1\n",
      "Faces localizadas 16/16\n",
      "Processando 2\n",
      "Faces localizadas 15/15\n",
      "Processando 3\n",
      "Faces localizadas 17/17\n",
      "Processando 4\n",
      "Faces localizadas 16/16\n",
      "Processando 5\n",
      "Faces localizadas 17/17\n",
      "Processando 6\n",
      "Faces localizadas 15/15\n",
      "Processando 7\n",
      "Faces localizadas 16/16\n",
      "Processando 8\n",
      "Faces localizadas 16/16\n",
      "Processando 9\n",
      "Faces localizadas 17/17\n",
      "Processando 10\n",
      "Faces localizadas 17/17\n"
     ]
    }
   ],
   "source": [
    "training_data, labels = treinamento()"
   ]
  },
  {
   "cell_type": "code",
   "execution_count": 41,
   "metadata": {},
   "outputs": [
    {
     "data": {
      "text/plain": [
       "array([ 1,  1,  1,  1,  1,  1,  1,  1,  1,  1,  1,  1,  1,  1,  1,  2,  2,\n",
       "        2,  2,  2,  2,  2,  2,  2,  2,  2,  2,  2,  2,  3,  3,  3,  3,  3,\n",
       "        3,  3,  3,  3,  3,  3,  3,  3,  3,  3,  3,  4,  4,  4,  4,  4,  4,\n",
       "        4,  4,  4,  4,  4,  4,  4,  4,  4,  5,  5,  5,  5,  5,  5,  5,  5,\n",
       "        5,  5,  5,  5,  5,  5,  5,  5,  6,  6,  6,  6,  6,  6,  6,  6,  6,\n",
       "        6,  6,  6,  6,  6,  7,  7,  7,  7,  7,  7,  7,  7,  7,  7,  7,  7,\n",
       "        7,  7,  7,  8,  8,  8,  8,  8,  8,  8,  8,  8,  8,  8,  8,  8,  8,\n",
       "        8,  9,  9,  9,  9,  9,  9,  9,  9,  9,  9,  9,  9,  9,  9,  9,  9,\n",
       "       10, 10, 10, 10, 10, 10, 10, 10, 10, 10, 10, 10, 10, 10, 10, 10])"
      ]
     },
     "execution_count": 41,
     "metadata": {},
     "output_type": "execute_result"
    }
   ],
   "source": [
    "labels"
   ]
  },
  {
   "cell_type": "markdown",
   "metadata": {},
   "source": [
    "Treinamento do modelo"
   ]
  },
  {
   "cell_type": "code",
   "execution_count": 42,
   "metadata": {},
   "outputs": [
    {
     "name": "stdout",
     "output_type": "stream",
     "text": [
      "Modelo treinado com sucesso.\n"
     ]
    }
   ],
   "source": [
    "# Treinamento do modelo\n",
    "model = cv2.face.LBPHFaceRecognizer_create()\n",
    "model.train(np.asarray(training_data), labels)\n",
    "print(\"Modelo treinado com sucesso.\")"
   ]
  },
  {
   "cell_type": "markdown",
   "metadata": {},
   "source": [
    "### 2.4 Validação dos resultados\n",
    "\n",
    "Validar performance do modelo"
   ]
  },
  {
   "cell_type": "code",
   "execution_count": 48,
   "metadata": {},
   "outputs": [
    {
     "name": "stdout",
     "output_type": "stream",
     "text": [
      "Analisando 1\n",
      "1 34 pontos\n",
      "1 36 pontos\n",
      "1 37 pontos\n",
      "1 38 pontos\n",
      "1 47 pontos\n",
      "Faces localizadas 5/5 100.0%\n",
      "Analisando 2\n",
      "2 38 pontos\n",
      "2 36 pontos\n",
      "2 39 pontos\n",
      "2 40 pontos\n",
      "2 39 pontos\n",
      "Faces localizadas 5/5 100.0%\n",
      "Analisando 3\n",
      "3 35 pontos\n",
      "3 37 pontos\n",
      "3 37 pontos\n",
      "3 36 pontos\n",
      "3 37 pontos\n",
      "Faces localizadas 5/5 100.0%\n",
      "Analisando 4\n",
      "4 34 pontos\n",
      "4 33 pontos\n",
      "4 34 pontos\n",
      "4 33 pontos\n",
      "4 36 pontos\n",
      "Faces localizadas 5/5 100.0%\n",
      "Analisando 5\n",
      "5 36 pontos\n",
      "5 35 pontos\n",
      "5 35 pontos\n",
      "5 37 pontos\n",
      "2 70 pontos\n",
      "Faces localizadas 4/5 80.0%\n",
      "Analisando 6\n",
      "6 32 pontos\n",
      "6 29 pontos\n",
      "6 34 pontos\n",
      "6 36 pontos\n",
      "6 31 pontos\n",
      "Faces localizadas 5/5 100.0%\n",
      "Analisando 7\n",
      "7 36 pontos\n",
      "7 40 pontos\n",
      "7 36 pontos\n",
      "7 37 pontos\n",
      "7 36 pontos\n",
      "Faces localizadas 5/5 100.0%\n",
      "Analisando 8\n",
      "8 41 pontos\n",
      "8 36 pontos\n",
      "8 36 pontos\n",
      "8 38 pontos\n",
      "8 36 pontos\n",
      "Faces localizadas 5/5 100.0%\n",
      "Analisando 9\n",
      "9 37 pontos\n",
      "9 36 pontos\n",
      "9 33 pontos\n",
      "9 38 pontos\n",
      "9 36 pontos\n",
      "Faces localizadas 5/5 100.0%\n",
      "Analisando 10\n",
      "10 35 pontos\n",
      "10 33 pontos\n",
      "10 34 pontos\n",
      "10 36 pontos\n",
      "10 35 pontos\n",
      "Faces localizadas 5/5 100.0%\n"
     ]
    }
   ],
   "source": [
    "i = 1\n",
    "no_face = 0\n",
    "for subject in list(range(1,11)):\n",
    "    print(\"Analisando \"+ str(subject))\n",
    "    total = 0\n",
    "    success = 0\n",
    "    for file in glob.glob(\"imagens/caltech/val/\"+str(subject)+\"/*\"):\n",
    "        total += 1\n",
    "        image = cv2.imread(file);\n",
    "        face = face_extractor(image)\n",
    "        if face is not None:\n",
    "            image_norm = cv2.resize(face, (200, 200))\n",
    "            image_norm = cv2.cvtColor(image_norm, cv2.COLOR_BGR2GRAY)\n",
    "            results = model.predict(image_norm)\n",
    "            info = str(results[0]) + \" \" + str(int(results[1]))+\" pontos\"\n",
    "            print(info)\n",
    "            if results[0] == subject:\n",
    "                success += 1\n",
    "        else:\n",
    "            no_face += 1\n",
    "    print(\"Faces localizadas \"+str(success) + \"/\" + str(total)+ \" \"+str(float(success)*100/float(total)) + \"%\")"
   ]
  }
 ],
 "metadata": {
  "kernelspec": {
   "display_name": "Python 3",
   "language": "python",
   "name": "python3"
  },
  "language_info": {
   "codemirror_mode": {
    "name": "ipython",
    "version": 3
   },
   "file_extension": ".py",
   "mimetype": "text/x-python",
   "name": "python",
   "nbconvert_exporter": "python",
   "pygments_lexer": "ipython3",
   "version": "3.6.10"
  }
 },
 "nbformat": 4,
 "nbformat_minor": 2
}
