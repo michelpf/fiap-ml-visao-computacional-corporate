{
 "cells": [
  {
   "cell_type": "markdown",
   "metadata": {},
   "source": [
    "## Desafio 2\n",
    "\n",
    "> Atenção: este notebook foi desenhado para funcionar no **Kaggle**. Se pretende executar localmente prefira a versão local deste notebook, sem o sufixo ```-collab```.\n",
    "\n",
    "Construa um detector de bocejos que por meio da identificação de regiões da face calcule a área da boca e indique quando há ou não um bocejo.\n",
    "Crie um contador de bocejos e que as informações sejam exibidas em tempo real utilizando uma webcam.\n",
    "\n",
    "## 1. Requerimentos\n",
    "\n",
    "Todas as bibliotecas já estão instaladas no Kaggle.\n",
    "\n",
    "* OpenCV >= 3.4.3\n",
    "* Matplotlib >= 3.1.3\n",
    "* Seaborn >= 0.0.10\n",
    "* Numpy >= 1.18.1\n",
    "\n",
    "### 1.2 Arquivos\n",
    "\n",
    "Baixe o repositório do GitHub utilizando o comando abaixo. Em caso de atualização, utilize o comando para apagar o diretório antes."
   ]
  },
  {
   "cell_type": "code",
   "execution_count": null,
   "metadata": {},
   "outputs": [],
   "source": [
    "!rm -rf fiap-ml-visao-computacional/"
   ]
  },
  {
   "cell_type": "code",
   "execution_count": null,
   "metadata": {},
   "outputs": [],
   "source": [
    "!git clone https://github.com/michelpf/fiap-ml-visao-computacional"
   ]
  },
  {
   "cell_type": "markdown",
   "metadata": {},
   "source": [
    "Vamos agora posicionar o diretório do repositório para a aula respectiva. Nesse caso envie o comando de mudança de diretório."
   ]
  },
  {
   "cell_type": "code",
   "execution_count": null,
   "metadata": {},
   "outputs": [],
   "source": [
    "%cd fiap-ml-visao-computacional/aula-4-classificacao-objetos-analise-facial/desafio-2/"
   ]
  },
  {
   "cell_type": "markdown",
   "metadata": {},
   "source": [
    "Importação de bibliotecas."
   ]
  },
  {
   "cell_type": "code",
   "execution_count": 3,
   "metadata": {},
   "outputs": [],
   "source": [
    "import numpy as np\n",
    "import matplotlib.image as mpimg\n",
    "import matplotlib.pyplot as plt\n",
    "import seaborn as sns\n",
    "import cv2\n",
    "\n",
    "#Exibição na mesma tela do Jupyter\n",
    "%matplotlib inline\n",
    "\n",
    "import dlib\n",
    "\n",
    "plt.style.use('seaborn')\n",
    "sns.set_style(\"whitegrid\", {'axes.grid' : False})"
   ]
  },
  {
   "cell_type": "markdown",
   "metadata": {},
   "source": [
    "## 2. Solução\n",
    "\n",
    "Função para analisar e extrair os marcos faciais. Seu resultado será utilizado para cálculdo da área do contorno dos pontos da boca."
   ]
  },
  {
   "cell_type": "code",
   "execution_count": 4,
   "metadata": {},
   "outputs": [],
   "source": [
    "classificador_68_path = \"../modelos/shape_predictor_68_face_landmarks.dat\"\n",
    "classificador_dlib = dlib.shape_predictor(classificador_68_path)\n",
    "detector_face_dlib = dlib.get_frontal_face_detector()\n",
    "\n",
    "def obter_marcos(imagem):\n",
    "    \n",
    "    faces = detector_face_dlib(imagem, 1)\n",
    "\n",
    "    if len(faces) == 0:\n",
    "        print(\"Não foi encontrada nenhuma face.\")\n",
    "        return None\n",
    "        \n",
    "    marcos_faciais = []\n",
    "    \n",
    "    for face in faces:\n",
    "        marcos_faciais.append(np.matrix([[p.x, p.y] for p in classificador_dlib(imagem, face).parts()]))\n",
    "\n",
    "    return marcos_faciais"
   ]
  },
  {
   "cell_type": "markdown",
   "metadata": {},
   "source": [
    "Os pontos de contorno da boca são do 48 ao 61, representada pela variál ```LABIO```."
   ]
  },
  {
   "cell_type": "code",
   "execution_count": 5,
   "metadata": {},
   "outputs": [],
   "source": [
    "LABIO = list(range(48, 61))"
   ]
  },
  {
   "cell_type": "markdown",
   "metadata": {},
   "source": [
    "Análise do valor da área do contorno da boca necessário para indicar que a pessoa está com a boca aberta, portanto bocejando.\n",
    "Para termos um panorama detalhado, iremos armazenar os valores da área da boca ao longo do tempo. Para o processamento não ser elevado iremos processar os dados a cada 5 quadros, pois eles não determinam nenhum movimento brusco e equivalem a menos de 1 segundo pois o vídeo possui 30 quadros por segundo."
   ]
  },
  {
   "cell_type": "code",
   "execution_count": 19,
   "metadata": {},
   "outputs": [
    {
     "name": "stdout",
     "output_type": "stream",
     "text": [
      "Analisando...\n",
      "Terminado\n"
     ]
    }
   ],
   "source": [
    "video = cv2.VideoCapture(\"videos/bocejo-gray.mp4\")\n",
    "\n",
    "timestamp = 0\n",
    "\n",
    "tempo= []\n",
    "area_boca=[]\n",
    "\n",
    "print(\"Analisando...\")\n",
    "\n",
    "frame_c = 0\n",
    "\n",
    "while True:\n",
    "    ret, frame = video.read()\n",
    "    if ret:\n",
    "        frame_c += 1\n",
    "        if frame_c == 5:\n",
    "            frame_c = 0\n",
    "            timestamp += 1\n",
    "            marcos_faciais = obter_marcos(frame)\n",
    "            if marcos_faciais is not None:\n",
    "                area_boca.append(cv2.contourArea(marcos_faciais[0][LABIO]))\n",
    "                tempo.append(timestamp)\n",
    "    else:\n",
    "        break\n",
    "\n",
    "print(\"Terminado\")\n",
    "\n",
    "video.release()"
   ]
  },
  {
   "cell_type": "markdown",
   "metadata": {},
   "source": [
    "Plotagem do gráfico da área de boca ao longo do tempo. Devemos notar 2 picos de área, equivalendo a dois bocejos realizados."
   ]
  },
  {
   "cell_type": "code",
   "execution_count": 18,
   "metadata": {},
   "outputs": [
    {
     "data": {
      "image/png": "[encoded data removed]",
      "text/plain": [
       "<Figure size 576x396 with 1 Axes>"
      ]
     },
     "metadata": {},
     "output_type": "display_data"
    }
   ],
   "source": [
    "plt.plot(tempo, area_boca, color='g')\n",
    "plt.show()"
   ]
  },
  {
   "cell_type": "markdown",
   "metadata": {},
   "source": [
    "Analisando o vídeo novamente, com o parâmetro de bocejo a partir de 1200 pixels quadrados, conforme indicou o gráfico das áreas da boca ao longo do tempo.\n",
    "\n",
    "Podemos utilizar a mesma análise de processamento a cada 5 quadros, porém quando a área for maior que o limite identificado, será contabilizado um bocejo.\n",
    "\n",
    "O contador de bocejo será ativado toda a vez que for identificado um intervalo de bocejo e não bocejo."
   ]
  },
  {
   "cell_type": "code",
   "execution_count": 22,
   "metadata": {},
   "outputs": [
    {
     "name": "stdout",
     "output_type": "stream",
     "text": [
      "Analisando...\n",
      "Bocejos 1\n",
      "Bocejos 2\n",
      "Terminado\n"
     ]
    }
   ],
   "source": [
    "video = cv2.VideoCapture(\"videos/bocejo-gray.mp4\")\n",
    "\n",
    "print(\"Analisando...\")\n",
    "\n",
    "bocejo_anterior = False\n",
    "qtde_bocejos = 0\n",
    "\n",
    "while True:\n",
    "    ret, frame = video.read()\n",
    "    if ret:\n",
    "        frame_c += 1\n",
    "        if frame_c == 5:\n",
    "            frame_c = 0\n",
    "            marcos_faciais = obter_marcos(frame)\n",
    "            if marcos_faciais is not None:\n",
    "                area_boca = cv2.contourArea(marcos_faciais[0][LABIO])\n",
    "                \n",
    "                if area_boca > 12000:\n",
    "                    bocejo = True\n",
    "                else:\n",
    "                    bocejo = False\n",
    "\n",
    "                if bocejo_anterior == True and bocejo == False:\n",
    "                    qtde_bocejos += 1\n",
    "                    print(\"Bocejos \" + str(qtde_bocejos))\n",
    "                \n",
    "                bocejo_anterior = bocejo\n",
    "    else:\n",
    "        break\n",
    "\n",
    "print(\"Terminado\")\n",
    "\n",
    "video.release()"
   ]
  }
 ],
 "metadata": {
  "kernelspec": {
   "display_name": "Python 3",
   "language": "python",
   "name": "python3"
  },
  "language_info": {
   "codemirror_mode": {
    "name": "ipython",
    "version": 3
   },
   "file_extension": ".py",
   "mimetype": "text/x-python",
   "name": "python",
   "nbconvert_exporter": "python",
   "pygments_lexer": "ipython3",
   "version": "3.6.12"
  }
 },
 "nbformat": 4,
 "nbformat_minor": 2
}
